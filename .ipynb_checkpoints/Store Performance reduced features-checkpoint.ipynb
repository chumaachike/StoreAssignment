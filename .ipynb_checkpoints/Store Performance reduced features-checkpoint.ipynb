{
 "cells": [
  {
   "cell_type": "code",
   "execution_count": 1,
   "id": "900628a2",
   "metadata": {},
   "outputs": [],
   "source": [
    "#import pandas and numpy\n",
    "import pandas as pd\n",
    "import numpy as np\n",
    "\n",
    "#import dataset using pandas read_csv funtion\n",
    "df = pd.read_csv(\"storedata.csv\")"
   ]
  },
  {
   "cell_type": "markdown",
   "id": "6cc6040f",
   "metadata": {},
   "source": [
    "### Data Understanding "
   ]
  },
  {
   "cell_type": "code",
   "execution_count": 2,
   "id": "86ca54fe",
   "metadata": {},
   "outputs": [
    {
     "data": {
      "text/plain": [
       "(136, 19)"
      ]
     },
     "metadata": {},
     "output_type": "display_data"
    }
   ],
   "source": [
    "#check how many row and colums the dataset has\n",
    "display(df.shape)"
   ]
  },
  {
   "cell_type": "markdown",
   "id": "fe75d020",
   "metadata": {},
   "source": [
    "From the shape it can be seen that the datset has 136 rows and 19 colums "
   ]
  },
  {
   "cell_type": "code",
   "execution_count": 3,
   "id": "197a818f",
   "metadata": {},
   "outputs": [
    {
     "name": "stdout",
     "output_type": "stream",
     "text": [
      "0\n"
     ]
    }
   ],
   "source": [
    "count = 0\n",
    "for index, row in df.iterrows():\n",
    "    if(row.isnull()[1] == True):\n",
    "        count = count + 1\n",
    "print (count)"
   ]
  },
  {
   "cell_type": "code",
   "execution_count": 4,
   "id": "e7072ada",
   "metadata": {},
   "outputs": [
    {
     "data": {
      "text/plain": [
       "False"
      ]
     },
     "execution_count": 4,
     "metadata": {},
     "output_type": "execute_result"
    }
   ],
   "source": [
    "#check if any of the datapoints are duplicated \n",
    "dups = df.duplicated()\n",
    "dups.any()"
   ]
  },
  {
   "cell_type": "code",
   "execution_count": 5,
   "id": "4c73db0a",
   "metadata": {},
   "outputs": [
    {
     "data": {
      "text/html": [
       "<div>\n",
       "<style scoped>\n",
       "    .dataframe tbody tr th:only-of-type {\n",
       "        vertical-align: middle;\n",
       "    }\n",
       "\n",
       "    .dataframe tbody tr th {\n",
       "        vertical-align: top;\n",
       "    }\n",
       "\n",
       "    .dataframe thead th {\n",
       "        text-align: right;\n",
       "    }\n",
       "</style>\n",
       "<table border=\"1\" class=\"dataframe\">\n",
       "  <thead>\n",
       "    <tr style=\"text-align: right;\">\n",
       "      <th></th>\n",
       "      <th>Town</th>\n",
       "      <th>Country</th>\n",
       "      <th>Store ID</th>\n",
       "      <th>Manager name</th>\n",
       "      <th>Staff</th>\n",
       "      <th>Floor Space</th>\n",
       "      <th>Window</th>\n",
       "      <th>Car park</th>\n",
       "      <th>Demographic score</th>\n",
       "      <th>Location</th>\n",
       "      <th>40min population</th>\n",
       "      <th>30 min population</th>\n",
       "      <th>20 min population</th>\n",
       "      <th>10 min population</th>\n",
       "      <th>Store age</th>\n",
       "      <th>Clearance space</th>\n",
       "      <th>Competition number</th>\n",
       "      <th>Competition score</th>\n",
       "      <th>Performance</th>\n",
       "    </tr>\n",
       "  </thead>\n",
       "  <tbody>\n",
       "    <tr>\n",
       "      <th>0</th>\n",
       "      <td>Swinton (Greater Manchester)</td>\n",
       "      <td>UK</td>\n",
       "      <td>1437</td>\n",
       "      <td>Roger</td>\n",
       "      <td>9</td>\n",
       "      <td>18526</td>\n",
       "      <td>121</td>\n",
       "      <td>Yes</td>\n",
       "      <td>10</td>\n",
       "      <td>Retail Park</td>\n",
       "      <td>1288374</td>\n",
       "      <td>1138224</td>\n",
       "      <td>1006986</td>\n",
       "      <td>1002340</td>\n",
       "      <td>3</td>\n",
       "      <td>238</td>\n",
       "      <td>16</td>\n",
       "      <td>16</td>\n",
       "      <td>Good</td>\n",
       "    </tr>\n",
       "    <tr>\n",
       "      <th>1</th>\n",
       "      <td>Stamford</td>\n",
       "      <td>UK</td>\n",
       "      <td>1544</td>\n",
       "      <td>Ella</td>\n",
       "      <td>8</td>\n",
       "      <td>18569</td>\n",
       "      <td>121</td>\n",
       "      <td>Yes</td>\n",
       "      <td>11</td>\n",
       "      <td>Shopping Centre</td>\n",
       "      <td>1086225</td>\n",
       "      <td>1015321</td>\n",
       "      <td>1012182</td>\n",
       "      <td>1008436</td>\n",
       "      <td>4</td>\n",
       "      <td>384</td>\n",
       "      <td>15</td>\n",
       "      <td>19</td>\n",
       "      <td>Good</td>\n",
       "    </tr>\n",
       "    <tr>\n",
       "      <th>2</th>\n",
       "      <td>Skipton</td>\n",
       "      <td>UK</td>\n",
       "      <td>2039</td>\n",
       "      <td>Valentina</td>\n",
       "      <td>-2</td>\n",
       "      <td>12288</td>\n",
       "      <td>105</td>\n",
       "      <td>No</td>\n",
       "      <td>12</td>\n",
       "      <td>Retail Park</td>\n",
       "      <td>1595638</td>\n",
       "      <td>1281661</td>\n",
       "      <td>1104490</td>\n",
       "      <td>1011395</td>\n",
       "      <td>11</td>\n",
       "      <td>219</td>\n",
       "      <td>13</td>\n",
       "      <td>18</td>\n",
       "      <td>Bad</td>\n",
       "    </tr>\n",
       "    <tr>\n",
       "      <th>3</th>\n",
       "      <td>Stratton</td>\n",
       "      <td>UK</td>\n",
       "      <td>2055</td>\n",
       "      <td>Antonia</td>\n",
       "      <td>7</td>\n",
       "      <td>17092</td>\n",
       "      <td>117</td>\n",
       "      <td>No</td>\n",
       "      <td>14</td>\n",
       "      <td>High Street</td>\n",
       "      <td>1179395</td>\n",
       "      <td>1022959</td>\n",
       "      <td>1009496</td>\n",
       "      <td>1002169</td>\n",
       "      <td>5</td>\n",
       "      <td>261</td>\n",
       "      <td>15</td>\n",
       "      <td>12</td>\n",
       "      <td>Bad</td>\n",
       "    </tr>\n",
       "    <tr>\n",
       "      <th>4</th>\n",
       "      <td>Shepperton</td>\n",
       "      <td>UK</td>\n",
       "      <td>2141</td>\n",
       "      <td>Gabriel</td>\n",
       "      <td>7</td>\n",
       "      <td>11307</td>\n",
       "      <td>103</td>\n",
       "      <td>No</td>\n",
       "      <td>18</td>\n",
       "      <td>Retail Park</td>\n",
       "      <td>1398558</td>\n",
       "      <td>1085170</td>\n",
       "      <td>1003137</td>\n",
       "      <td>1002513</td>\n",
       "      <td>7</td>\n",
       "      <td>200</td>\n",
       "      <td>19</td>\n",
       "      <td>13</td>\n",
       "      <td>Bad</td>\n",
       "    </tr>\n",
       "  </tbody>\n",
       "</table>\n",
       "</div>"
      ],
      "text/plain": [
       "                            Town Country  Store ID Manager name  Staff  \\\n",
       "0   Swinton (Greater Manchester)      UK      1437        Roger      9   \n",
       "1                       Stamford      UK      1544         Ella      8   \n",
       "2                        Skipton      UK      2039    Valentina     -2   \n",
       "3                       Stratton      UK      2055      Antonia      7   \n",
       "4                     Shepperton      UK      2141      Gabriel      7   \n",
       "\n",
       "   Floor Space  Window Car park  Demographic score         Location  \\\n",
       "0        18526     121      Yes                 10      Retail Park   \n",
       "1        18569     121      Yes                 11  Shopping Centre   \n",
       "2        12288     105       No                 12      Retail Park   \n",
       "3        17092     117       No                 14      High Street   \n",
       "4        11307     103       No                 18      Retail Park   \n",
       "\n",
       "   40min population  30 min population  20 min population  10 min population  \\\n",
       "0           1288374            1138224            1006986            1002340   \n",
       "1           1086225            1015321            1012182            1008436   \n",
       "2           1595638            1281661            1104490            1011395   \n",
       "3           1179395            1022959            1009496            1002169   \n",
       "4           1398558            1085170            1003137            1002513   \n",
       "\n",
       "   Store age  Clearance space  Competition number  Competition score  \\\n",
       "0          3              238                  16                 16   \n",
       "1          4              384                  15                 19   \n",
       "2         11              219                  13                 18   \n",
       "3          5              261                  15                 12   \n",
       "4          7              200                  19                 13   \n",
       "\n",
       "  Performance  \n",
       "0        Good  \n",
       "1        Good  \n",
       "2         Bad  \n",
       "3         Bad  \n",
       "4         Bad  "
      ]
     },
     "execution_count": 5,
     "metadata": {},
     "output_type": "execute_result"
    }
   ],
   "source": [
    "df.head()"
   ]
  },
  {
   "cell_type": "code",
   "execution_count": 6,
   "id": "85f4fa1f",
   "metadata": {},
   "outputs": [
    {
     "data": {
      "text/plain": [
       "Town                  object\n",
       "Country               object\n",
       "Store ID               int64\n",
       "Manager name          object\n",
       "Staff                  int64\n",
       "Floor Space            int64\n",
       "Window                 int64\n",
       "Car park              object\n",
       "Demographic score      int64\n",
       "Location              object\n",
       "40min population       int64\n",
       "30 min population      int64\n",
       "20 min population      int64\n",
       "10 min population      int64\n",
       "Store age              int64\n",
       "Clearance space        int64\n",
       "Competition number     int64\n",
       "Competition score      int64\n",
       "Performance           object\n",
       "dtype: object"
      ]
     },
     "execution_count": 6,
     "metadata": {},
     "output_type": "execute_result"
    }
   ],
   "source": [
    "#Find out the data types\n",
    "df.dtypes"
   ]
  },
  {
   "cell_type": "code",
   "execution_count": 7,
   "id": "690ea915",
   "metadata": {},
   "outputs": [
    {
     "data": {
      "text/html": [
       "<div>\n",
       "<style scoped>\n",
       "    .dataframe tbody tr th:only-of-type {\n",
       "        vertical-align: middle;\n",
       "    }\n",
       "\n",
       "    .dataframe tbody tr th {\n",
       "        vertical-align: top;\n",
       "    }\n",
       "\n",
       "    .dataframe thead th {\n",
       "        text-align: right;\n",
       "    }\n",
       "</style>\n",
       "<table border=\"1\" class=\"dataframe\">\n",
       "  <thead>\n",
       "    <tr style=\"text-align: right;\">\n",
       "      <th></th>\n",
       "      <th>Town</th>\n",
       "      <th>Country</th>\n",
       "      <th>Store ID</th>\n",
       "      <th>Manager name</th>\n",
       "      <th>Staff</th>\n",
       "      <th>Floor Space</th>\n",
       "      <th>Window</th>\n",
       "      <th>Car park</th>\n",
       "      <th>Demographic score</th>\n",
       "      <th>Location</th>\n",
       "      <th>40min population</th>\n",
       "      <th>30 min population</th>\n",
       "      <th>20 min population</th>\n",
       "      <th>10 min population</th>\n",
       "      <th>Store age</th>\n",
       "      <th>Clearance space</th>\n",
       "      <th>Competition number</th>\n",
       "      <th>Competition score</th>\n",
       "      <th>Performance</th>\n",
       "    </tr>\n",
       "  </thead>\n",
       "  <tbody>\n",
       "    <tr>\n",
       "      <th>count</th>\n",
       "      <td>136</td>\n",
       "      <td>136</td>\n",
       "      <td>136.000000</td>\n",
       "      <td>136</td>\n",
       "      <td>136.000000</td>\n",
       "      <td>136.000000</td>\n",
       "      <td>136.000000</td>\n",
       "      <td>136</td>\n",
       "      <td>136.000000</td>\n",
       "      <td>136</td>\n",
       "      <td>1.360000e+02</td>\n",
       "      <td>1.360000e+02</td>\n",
       "      <td>1.360000e+02</td>\n",
       "      <td>1.360000e+02</td>\n",
       "      <td>136.000000</td>\n",
       "      <td>136.000000</td>\n",
       "      <td>136.000000</td>\n",
       "      <td>136.000000</td>\n",
       "      <td>136</td>\n",
       "    </tr>\n",
       "    <tr>\n",
       "      <th>unique</th>\n",
       "      <td>136</td>\n",
       "      <td>2</td>\n",
       "      <td>NaN</td>\n",
       "      <td>118</td>\n",
       "      <td>NaN</td>\n",
       "      <td>NaN</td>\n",
       "      <td>NaN</td>\n",
       "      <td>4</td>\n",
       "      <td>NaN</td>\n",
       "      <td>4</td>\n",
       "      <td>NaN</td>\n",
       "      <td>NaN</td>\n",
       "      <td>NaN</td>\n",
       "      <td>NaN</td>\n",
       "      <td>NaN</td>\n",
       "      <td>NaN</td>\n",
       "      <td>NaN</td>\n",
       "      <td>NaN</td>\n",
       "      <td>2</td>\n",
       "    </tr>\n",
       "    <tr>\n",
       "      <th>top</th>\n",
       "      <td>Swinton (Greater Manchester)</td>\n",
       "      <td>UK</td>\n",
       "      <td>NaN</td>\n",
       "      <td>Sarah</td>\n",
       "      <td>NaN</td>\n",
       "      <td>NaN</td>\n",
       "      <td>NaN</td>\n",
       "      <td>Yes</td>\n",
       "      <td>NaN</td>\n",
       "      <td>Shopping Centre</td>\n",
       "      <td>NaN</td>\n",
       "      <td>NaN</td>\n",
       "      <td>NaN</td>\n",
       "      <td>NaN</td>\n",
       "      <td>NaN</td>\n",
       "      <td>NaN</td>\n",
       "      <td>NaN</td>\n",
       "      <td>NaN</td>\n",
       "      <td>Good</td>\n",
       "    </tr>\n",
       "    <tr>\n",
       "      <th>freq</th>\n",
       "      <td>1</td>\n",
       "      <td>134</td>\n",
       "      <td>NaN</td>\n",
       "      <td>3</td>\n",
       "      <td>NaN</td>\n",
       "      <td>NaN</td>\n",
       "      <td>NaN</td>\n",
       "      <td>94</td>\n",
       "      <td>NaN</td>\n",
       "      <td>52</td>\n",
       "      <td>NaN</td>\n",
       "      <td>NaN</td>\n",
       "      <td>NaN</td>\n",
       "      <td>NaN</td>\n",
       "      <td>NaN</td>\n",
       "      <td>NaN</td>\n",
       "      <td>NaN</td>\n",
       "      <td>NaN</td>\n",
       "      <td>69</td>\n",
       "    </tr>\n",
       "    <tr>\n",
       "      <th>mean</th>\n",
       "      <td>NaN</td>\n",
       "      <td>NaN</td>\n",
       "      <td>52172.580882</td>\n",
       "      <td>NaN</td>\n",
       "      <td>13.352941</td>\n",
       "      <td>15024.095588</td>\n",
       "      <td>112.044118</td>\n",
       "      <td>NaN</td>\n",
       "      <td>14.463235</td>\n",
       "      <td>NaN</td>\n",
       "      <td>1.487374e+06</td>\n",
       "      <td>1.249870e+06</td>\n",
       "      <td>1.134533e+06</td>\n",
       "      <td>1.066118e+06</td>\n",
       "      <td>6.529412</td>\n",
       "      <td>262.426471</td>\n",
       "      <td>14.463235</td>\n",
       "      <td>14.808824</td>\n",
       "      <td>NaN</td>\n",
       "    </tr>\n",
       "    <tr>\n",
       "      <th>std</th>\n",
       "      <td>NaN</td>\n",
       "      <td>NaN</td>\n",
       "      <td>28725.990237</td>\n",
       "      <td>NaN</td>\n",
       "      <td>56.592439</td>\n",
       "      <td>2761.801921</td>\n",
       "      <td>6.884085</td>\n",
       "      <td>NaN</td>\n",
       "      <td>2.874944</td>\n",
       "      <td>NaN</td>\n",
       "      <td>2.804989e+05</td>\n",
       "      <td>2.160875e+05</td>\n",
       "      <td>1.490280e+05</td>\n",
       "      <td>8.884585e+04</td>\n",
       "      <td>2.815147</td>\n",
       "      <td>51.724288</td>\n",
       "      <td>2.895483</td>\n",
       "      <td>2.955258</td>\n",
       "      <td>NaN</td>\n",
       "    </tr>\n",
       "    <tr>\n",
       "      <th>min</th>\n",
       "      <td>NaN</td>\n",
       "      <td>NaN</td>\n",
       "      <td>1437.000000</td>\n",
       "      <td>NaN</td>\n",
       "      <td>-2.000000</td>\n",
       "      <td>10072.000000</td>\n",
       "      <td>100.000000</td>\n",
       "      <td>NaN</td>\n",
       "      <td>10.000000</td>\n",
       "      <td>NaN</td>\n",
       "      <td>1.030405e+06</td>\n",
       "      <td>1.000653e+06</td>\n",
       "      <td>1.000214e+06</td>\n",
       "      <td>1.000002e+06</td>\n",
       "      <td>2.000000</td>\n",
       "      <td>200.000000</td>\n",
       "      <td>10.000000</td>\n",
       "      <td>10.000000</td>\n",
       "      <td>NaN</td>\n",
       "    </tr>\n",
       "    <tr>\n",
       "      <th>25%</th>\n",
       "      <td>NaN</td>\n",
       "      <td>NaN</td>\n",
       "      <td>24707.250000</td>\n",
       "      <td>NaN</td>\n",
       "      <td>6.000000</td>\n",
       "      <td>12793.000000</td>\n",
       "      <td>106.750000</td>\n",
       "      <td>NaN</td>\n",
       "      <td>12.000000</td>\n",
       "      <td>NaN</td>\n",
       "      <td>1.254949e+06</td>\n",
       "      <td>1.057284e+06</td>\n",
       "      <td>1.012573e+06</td>\n",
       "      <td>1.005593e+06</td>\n",
       "      <td>4.000000</td>\n",
       "      <td>220.750000</td>\n",
       "      <td>12.000000</td>\n",
       "      <td>13.000000</td>\n",
       "      <td>NaN</td>\n",
       "    </tr>\n",
       "    <tr>\n",
       "      <th>50%</th>\n",
       "      <td>NaN</td>\n",
       "      <td>NaN</td>\n",
       "      <td>56011.500000</td>\n",
       "      <td>NaN</td>\n",
       "      <td>7.000000</td>\n",
       "      <td>14596.500000</td>\n",
       "      <td>111.000000</td>\n",
       "      <td>NaN</td>\n",
       "      <td>14.500000</td>\n",
       "      <td>NaN</td>\n",
       "      <td>1.516338e+06</td>\n",
       "      <td>1.214459e+06</td>\n",
       "      <td>1.077542e+06</td>\n",
       "      <td>1.033228e+06</td>\n",
       "      <td>6.000000</td>\n",
       "      <td>249.000000</td>\n",
       "      <td>15.000000</td>\n",
       "      <td>15.000000</td>\n",
       "      <td>NaN</td>\n",
       "    </tr>\n",
       "    <tr>\n",
       "      <th>75%</th>\n",
       "      <td>NaN</td>\n",
       "      <td>NaN</td>\n",
       "      <td>76870.500000</td>\n",
       "      <td>NaN</td>\n",
       "      <td>8.000000</td>\n",
       "      <td>17543.750000</td>\n",
       "      <td>118.000000</td>\n",
       "      <td>NaN</td>\n",
       "      <td>17.000000</td>\n",
       "      <td>NaN</td>\n",
       "      <td>1.696352e+06</td>\n",
       "      <td>1.396967e+06</td>\n",
       "      <td>1.203077e+06</td>\n",
       "      <td>1.090349e+06</td>\n",
       "      <td>9.000000</td>\n",
       "      <td>292.250000</td>\n",
       "      <td>17.000000</td>\n",
       "      <td>18.000000</td>\n",
       "      <td>NaN</td>\n",
       "    </tr>\n",
       "    <tr>\n",
       "      <th>max</th>\n",
       "      <td>NaN</td>\n",
       "      <td>NaN</td>\n",
       "      <td>99854.000000</td>\n",
       "      <td>NaN</td>\n",
       "      <td>600.000000</td>\n",
       "      <td>19869.000000</td>\n",
       "      <td>124.000000</td>\n",
       "      <td>NaN</td>\n",
       "      <td>19.000000</td>\n",
       "      <td>NaN</td>\n",
       "      <td>1.997044e+06</td>\n",
       "      <td>1.929089e+06</td>\n",
       "      <td>1.723395e+06</td>\n",
       "      <td>1.426533e+06</td>\n",
       "      <td>11.000000</td>\n",
       "      <td>408.000000</td>\n",
       "      <td>19.000000</td>\n",
       "      <td>19.000000</td>\n",
       "      <td>NaN</td>\n",
       "    </tr>\n",
       "  </tbody>\n",
       "</table>\n",
       "</div>"
      ],
      "text/plain": [
       "                                 Town Country      Store ID Manager name  \\\n",
       "count                             136     136    136.000000          136   \n",
       "unique                            136       2           NaN          118   \n",
       "top      Swinton (Greater Manchester)      UK           NaN        Sarah   \n",
       "freq                                1     134           NaN            3   \n",
       "mean                              NaN     NaN  52172.580882          NaN   \n",
       "std                               NaN     NaN  28725.990237          NaN   \n",
       "min                               NaN     NaN   1437.000000          NaN   \n",
       "25%                               NaN     NaN  24707.250000          NaN   \n",
       "50%                               NaN     NaN  56011.500000          NaN   \n",
       "75%                               NaN     NaN  76870.500000          NaN   \n",
       "max                               NaN     NaN  99854.000000          NaN   \n",
       "\n",
       "             Staff   Floor Space      Window Car park  Demographic score  \\\n",
       "count   136.000000    136.000000  136.000000      136         136.000000   \n",
       "unique         NaN           NaN         NaN        4                NaN   \n",
       "top            NaN           NaN         NaN      Yes                NaN   \n",
       "freq           NaN           NaN         NaN       94                NaN   \n",
       "mean     13.352941  15024.095588  112.044118      NaN          14.463235   \n",
       "std      56.592439   2761.801921    6.884085      NaN           2.874944   \n",
       "min      -2.000000  10072.000000  100.000000      NaN          10.000000   \n",
       "25%       6.000000  12793.000000  106.750000      NaN          12.000000   \n",
       "50%       7.000000  14596.500000  111.000000      NaN          14.500000   \n",
       "75%       8.000000  17543.750000  118.000000      NaN          17.000000   \n",
       "max     600.000000  19869.000000  124.000000      NaN          19.000000   \n",
       "\n",
       "               Location  40min population  30 min population  \\\n",
       "count               136      1.360000e+02       1.360000e+02   \n",
       "unique                4               NaN                NaN   \n",
       "top     Shopping Centre               NaN                NaN   \n",
       "freq                 52               NaN                NaN   \n",
       "mean                NaN      1.487374e+06       1.249870e+06   \n",
       "std                 NaN      2.804989e+05       2.160875e+05   \n",
       "min                 NaN      1.030405e+06       1.000653e+06   \n",
       "25%                 NaN      1.254949e+06       1.057284e+06   \n",
       "50%                 NaN      1.516338e+06       1.214459e+06   \n",
       "75%                 NaN      1.696352e+06       1.396967e+06   \n",
       "max                 NaN      1.997044e+06       1.929089e+06   \n",
       "\n",
       "        20 min population  10 min population   Store age  Clearance space  \\\n",
       "count        1.360000e+02       1.360000e+02  136.000000       136.000000   \n",
       "unique                NaN                NaN         NaN              NaN   \n",
       "top                   NaN                NaN         NaN              NaN   \n",
       "freq                  NaN                NaN         NaN              NaN   \n",
       "mean         1.134533e+06       1.066118e+06    6.529412       262.426471   \n",
       "std          1.490280e+05       8.884585e+04    2.815147        51.724288   \n",
       "min          1.000214e+06       1.000002e+06    2.000000       200.000000   \n",
       "25%          1.012573e+06       1.005593e+06    4.000000       220.750000   \n",
       "50%          1.077542e+06       1.033228e+06    6.000000       249.000000   \n",
       "75%          1.203077e+06       1.090349e+06    9.000000       292.250000   \n",
       "max          1.723395e+06       1.426533e+06   11.000000       408.000000   \n",
       "\n",
       "        Competition number  Competition score Performance  \n",
       "count           136.000000         136.000000         136  \n",
       "unique                 NaN                NaN           2  \n",
       "top                    NaN                NaN        Good  \n",
       "freq                   NaN                NaN          69  \n",
       "mean             14.463235          14.808824         NaN  \n",
       "std               2.895483           2.955258         NaN  \n",
       "min              10.000000          10.000000         NaN  \n",
       "25%              12.000000          13.000000         NaN  \n",
       "50%              15.000000          15.000000         NaN  \n",
       "75%              17.000000          18.000000         NaN  \n",
       "max              19.000000          19.000000         NaN  "
      ]
     },
     "execution_count": 7,
     "metadata": {},
     "output_type": "execute_result"
    }
   ],
   "source": [
    "df.describe(include=\"all\")"
   ]
  },
  {
   "cell_type": "code",
   "execution_count": 8,
   "id": "ff9ea8df",
   "metadata": {
    "scrolled": true
   },
   "outputs": [
    {
     "data": {
      "text/plain": [
       "array([[<AxesSubplot:title={'center':'Store ID'}>,\n",
       "        <AxesSubplot:title={'center':'Staff'}>,\n",
       "        <AxesSubplot:title={'center':'Floor Space'}>,\n",
       "        <AxesSubplot:title={'center':'Window'}>],\n",
       "       [<AxesSubplot:title={'center':'Demographic score'}>,\n",
       "        <AxesSubplot:title={'center':'40min population'}>,\n",
       "        <AxesSubplot:title={'center':'30 min population'}>,\n",
       "        <AxesSubplot:title={'center':'20 min population'}>],\n",
       "       [<AxesSubplot:title={'center':'10 min population'}>,\n",
       "        <AxesSubplot:title={'center':'Store age'}>,\n",
       "        <AxesSubplot:title={'center':'Clearance space'}>,\n",
       "        <AxesSubplot:title={'center':'Competition number'}>],\n",
       "       [<AxesSubplot:title={'center':'Competition score'}>,\n",
       "        <AxesSubplot:>, <AxesSubplot:>, <AxesSubplot:>]], dtype=object)"
      ]
     },
     "execution_count": 8,
     "metadata": {},
     "output_type": "execute_result"
    },
    {
     "data": {
      "image/png": "[encoded data removed]",
      "text/plain": [
       "<Figure size 1500x2000 with 16 Axes>"
      ]
     },
     "metadata": {},
     "output_type": "display_data"
    }
   ],
   "source": [
    "#Plot the distribution of our data\n",
    "df.hist(figsize = (15,20))"
   ]
  },
  {
   "cell_type": "code",
   "execution_count": 9,
   "id": "ddccb266",
   "metadata": {},
   "outputs": [
    {
     "data": {
      "image/png": "[encoded data removed]",
      "text/plain": [
       "<Figure size 640x480 with 1 Axes>"
      ]
     },
     "metadata": {},
     "output_type": "display_data"
    }
   ],
   "source": [
    "#plot a bar chat for index five to find out what are the outliers\n",
    "import matplotlib.pyplot as plt\n",
    "df[\"Country\"].value_counts().plot(kind=\"bar\")\n",
    "plt.show()"
   ]
  },
  {
   "cell_type": "code",
   "execution_count": 10,
   "id": "868e05c3",
   "metadata": {},
   "outputs": [],
   "source": [
    "def detect_outliers(data):\n",
    "    outliers = []\n",
    "    threshold = 3\n",
    "    mean = np.mean(data)\n",
    "    std =  np.std(data)\n",
    "    for i in data:\n",
    "        z_score = (i-mean)/std\n",
    "        if np.abs(z_score) >threshold:\n",
    "            outliers.append(i)\n",
    "    return outliers"
   ]
  },
  {
   "cell_type": "code",
   "execution_count": 11,
   "id": "cf3d3be7",
   "metadata": {},
   "outputs": [
    {
     "name": "stdout",
     "output_type": "stream",
     "text": [
      "Store ID []\n",
      "Staff [300, 600]\n",
      "Floor Space []\n",
      "Window []\n",
      "Demographic score []\n",
      "40min population []\n",
      "30 min population [1929089]\n",
      "20 min population [1723395]\n",
      "10 min population [1426533, 1397710, 1384705]\n",
      "Store age []\n",
      "Clearance space []\n",
      "Competition number []\n",
      "Competition score []\n"
     ]
    }
   ],
   "source": [
    "for column in df.columns:\n",
    "    if (df[column].dtype  == np.int64):\n",
    "        outliers = detect_outliers(df[column])\n",
    "        print(column, outliers)"
   ]
  },
  {
   "cell_type": "markdown",
   "id": "3dbd42cd",
   "metadata": {},
   "source": [
    "From the code we can see that the variables in index 1 and 18 have close to no variance. Since index 18 is out target label we would exclude it for now and plot a bar chat for index 1(country)  to check further"
   ]
  },
  {
   "cell_type": "markdown",
   "id": "d928bcfd",
   "metadata": {},
   "source": [
    "From the bar chart we can see that there are two countries shown (UK and France). Since we know from the task that what we were tasked to analyze are over 100 stores the owner has in the UK, it is safe to remove the data points containing France "
   ]
  },
  {
   "cell_type": "markdown",
   "id": "13aace98",
   "metadata": {},
   "source": [
    "### Data Cleaning "
   ]
  },
  {
   "cell_type": "code",
   "execution_count": 12,
   "id": "547395f5",
   "metadata": {},
   "outputs": [],
   "source": [
    "#get a copy of the dataset which would be cleaneed \n",
    "df_cleaned = df.copy()\n",
    "# Select only rows where the country is UK\n",
    "df_cleaned = df_cleaned[(df_cleaned.Country ==\"UK\")]\n",
    "# Remove outliers in staff\n",
    "df_cleaned = df_cleaned[(df_cleaned['Staff'] < 299) & (df_cleaned['Staff'] > 0)]\n",
    "df_cleaned = df_cleaned[(df_cleaned['30 min population'] < 1929089)]\n",
    "df_cleaned = df_cleaned[(df_cleaned['20 min population'] < 1723395)]\n",
    "df_cleaned = df_cleaned[(df_cleaned['10 min population'] < 1384705)]"
   ]
  },
  {
   "cell_type": "markdown",
   "id": "e50b4251",
   "metadata": {},
   "source": [
    "From the description of the dataset we can see that there are four unique values for the car park variable out of a posible two. The next step is to plot a bar chart and see what other posiblities are there.\n"
   ]
  },
  {
   "cell_type": "code",
   "execution_count": 13,
   "id": "1d13a727",
   "metadata": {},
   "outputs": [
    {
     "data": {
      "image/png": "[encoded data removed]",
      "text/plain": [
       "<Figure size 640x480 with 1 Axes>"
      ]
     },
     "metadata": {},
     "output_type": "display_data"
    }
   ],
   "source": [
    "df_cleaned[\"Car park\"].value_counts().plot(kind=\"bar\")\n",
    "plt.show()"
   ]
  },
  {
   "cell_type": "markdown",
   "id": "599443ad",
   "metadata": {},
   "source": [
    "From the histogram we can see that there are some variables that where wrongly encoded as Y instead of Yes and N instead of No. We need to fix that by  converting all the Y to Yes and N to No"
   ]
  },
  {
   "cell_type": "code",
   "execution_count": 14,
   "id": "2cc48de9",
   "metadata": {},
   "outputs": [
    {
     "data": {
      "text/plain": [
       "<AxesSubplot:>"
      ]
     },
     "execution_count": 14,
     "metadata": {},
     "output_type": "execute_result"
    },
    {
     "data": {
      "image/png": "[encoded data removed]",
      "text/plain": [
       "<Figure size 640x480 with 1 Axes>"
      ]
     },
     "metadata": {},
     "output_type": "display_data"
    }
   ],
   "source": [
    "# we can use a dictionary to set up a mapping that would replace the values Y and N with Yes and No respectively\n",
    "df_cleaned['Car park'] = df_cleaned['Car park'].replace({'Y': 'Yes', 'N':'No'})\n",
    "#confirm that it worked\n",
    "df_cleaned['Car park'].value_counts().plot(kind='bar')"
   ]
  },
  {
   "cell_type": "code",
   "execution_count": 15,
   "id": "4ea3fefd",
   "metadata": {},
   "outputs": [],
   "source": [
    "df_cleaned['Performance'] = df_cleaned['Performance'].replace({'Good': 1, 'Bad':0})"
   ]
  },
  {
   "cell_type": "code",
   "execution_count": 16,
   "id": "9b2c562b",
   "metadata": {},
   "outputs": [],
   "source": [
    "#reset the index\n",
    "df_cleaned = df_cleaned.reset_index(drop=True)"
   ]
  },
  {
   "cell_type": "code",
   "execution_count": 17,
   "id": "36fc1c09",
   "metadata": {},
   "outputs": [],
   "source": [
    "#split the data into train and test data\n",
    "from sklearn.model_selection import train_test_split\n",
    "train, test = train_test_split(df_cleaned, test_size=0.2, random_state=402)"
   ]
  },
  {
   "cell_type": "code",
   "execution_count": 18,
   "id": "5ceabd39",
   "metadata": {},
   "outputs": [
    {
     "name": "stdout",
     "output_type": "stream",
     "text": [
      "the uniqueness of data in index 0 is 100.0\n",
      "the uniqueness of data in index 1 is 0.9900990099009901\n",
      "the uniqueness of data in index 2 is 100.0\n",
      "the uniqueness of data in index 3 is 94.05940594059405\n",
      "the uniqueness of data in index 4 is 4.9504950495049505\n",
      "the uniqueness of data in index 5 is 99.00990099009901\n",
      "the uniqueness of data in index 6 is 24.752475247524753\n",
      "the uniqueness of data in index 7 is 1.9801980198019802\n",
      "the uniqueness of data in index 8 is 9.900990099009901\n",
      "the uniqueness of data in index 9 is 3.9603960396039604\n",
      "the uniqueness of data in index 10 is 100.0\n",
      "the uniqueness of data in index 11 is 100.0\n",
      "the uniqueness of data in index 12 is 100.0\n",
      "the uniqueness of data in index 13 is 100.0\n",
      "the uniqueness of data in index 14 is 9.900990099009901\n",
      "the uniqueness of data in index 15 is 69.3069306930693\n",
      "the uniqueness of data in index 16 is 9.900990099009901\n",
      "the uniqueness of data in index 17 is 9.900990099009901\n",
      "the uniqueness of data in index 18 is 1.9801980198019802\n"
     ]
    }
   ],
   "source": [
    "# to check which of variables contain unique values all through so as to exclude them and avoid zero variance predictors we use the unique function in Numpy\n",
    "for i in range(train.shape[1]):\n",
    "    length_of_unique_data = len(np.unique(train.iloc[:,i].values))\n",
    "    unique_percentage = (length_of_unique_data/train.shape[0]) * 100\n",
    "    print (f\"the uniqueness of data in index {i} is {unique_percentage}\")\n"
   ]
  },
  {
   "cell_type": "code",
   "execution_count": 19,
   "id": "f7cd834d",
   "metadata": {},
   "outputs": [],
   "source": [
    "selected_features = ['Staff', 'Floor Space',\n",
    "       'Window', 'Car park', 'Demographic score', 'Location',\n",
    "       '40min population', '30 min population', '20 min population',\n",
    "       '10 min population', 'Store age', 'Clearance space',\n",
    "       'Competition number', 'Competition score', 'Performance']"
   ]
  },
  {
   "cell_type": "code",
   "execution_count": 20,
   "id": "d4ef81cc",
   "metadata": {},
   "outputs": [],
   "source": [
    "train = train.reset_index(drop=True)\n",
    "test = test.reset_index(drop=True)"
   ]
  },
  {
   "cell_type": "code",
   "execution_count": 21,
   "id": "e0ede644",
   "metadata": {},
   "outputs": [],
   "source": [
    "train = train[selected_features]\n",
    "test = test[selected_features]"
   ]
  },
  {
   "cell_type": "code",
   "execution_count": 22,
   "id": "75b1c557",
   "metadata": {},
   "outputs": [
    {
     "data": {
      "text/plain": [
       "<AxesSubplot:>"
      ]
     },
     "execution_count": 22,
     "metadata": {},
     "output_type": "execute_result"
    },
    {
     "data": {
      "image/png": "[encoded data removed]",
      "text/plain": [
       "<Figure size 640x480 with 1 Axes>"
      ]
     },
     "metadata": {},
     "output_type": "display_data"
    }
   ],
   "source": [
    "targetName = \"Performance\"\n",
    "train.columns.get_loc(targetName)\n",
    "featureNames=train.columns[np.where(train.columns != targetName)]\n",
    "X_train = train[featureNames]\n",
    "y_train = train[targetName]\n",
    "X_test = test[featureNames]\n",
    "y_test = test[targetName]\n",
    "# y_train.value_counts().plot(kind='bar')\n",
    "df['Performance'].value_counts().plot(kind='bar')"
   ]
  },
  {
   "cell_type": "code",
   "execution_count": 23,
   "id": "cbde14f9",
   "metadata": {},
   "outputs": [],
   "source": [
    "from sklearn.preprocessing import OneHotEncoder\n",
    "# one hot encoding\n",
    "from sklearn.compose import make_column_transformer\n",
    "transformer = make_column_transformer(\n",
    "    (OneHotEncoder(), ['Car park', 'Location']),\n",
    "    remainder='passthrough')"
   ]
  },
  {
   "cell_type": "code",
   "execution_count": 24,
   "id": "ee0664ef",
   "metadata": {},
   "outputs": [],
   "source": [
    "X_train_enc = transformer.fit_transform(X_train)\n",
    "X_train = pd.DataFrame(X_train_enc, columns=transformer.get_feature_names_out())\n",
    "X_test_enc = transformer.transform(X_test)\n",
    "X_test = pd.DataFrame(X_test_enc, columns=transformer.get_feature_names_out())"
   ]
  },
  {
   "cell_type": "code",
   "execution_count": 25,
   "id": "b35e08a7",
   "metadata": {},
   "outputs": [],
   "source": [
    "from sklearn.preprocessing import MinMaxScaler\n",
    "\n",
    "mm_scaler = MinMaxScaler()\n",
    "X_train = pd.DataFrame(mm_scaler.fit_transform(X_train), columns=X_train.columns)\n",
    "X_test = pd.DataFrame(mm_scaler.transform(X_test), columns=X_test.columns)"
   ]
  },
  {
   "cell_type": "code",
   "execution_count": null,
   "id": "a40b6bb5",
   "metadata": {},
   "outputs": [],
   "source": []
  }
 ],
 "metadata": {
  "kernelspec": {
   "display_name": "Python 3 (ipykernel)",
   "language": "python",
   "name": "python3"
  },
  "language_info": {
   "codemirror_mode": {
    "name": "ipython",
    "version": 3
   },
   "file_extension": ".py",
   "mimetype": "text/x-python",
   "name": "python",
   "nbconvert_exporter": "python",
   "pygments_lexer": "ipython3",
   "version": "3.9.13"
  }
 },
 "nbformat": 4,
 "nbformat_minor": 5
}
